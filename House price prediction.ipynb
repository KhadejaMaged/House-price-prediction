{
 "cells": [
  {
   "cell_type": "code",
   "execution_count": 1,
   "id": "a6ac5f86",
   "metadata": {},
   "outputs": [],
   "source": [
    "import numpy as np \n",
    "import pandas as pd \n",
    "import seaborn as sns\n",
    "import matplotlib.pyplot as plt\n",
    "\n",
    "\n",
    "import pandas as pd\n",
    "from sklearn.compose import ColumnTransformer\n",
    "from sklearn.pipeline import Pipeline\n",
    "from sklearn.preprocessing import OneHotEncoder, StandardScaler\n",
    "from sklearn.linear_model import LinearRegression\n",
    "\n",
    "from sklearn.ensemble import RandomForestClassifier, RandomForestRegressor\n",
    "from sklearn.model_selection import train_test_split\n",
    "from sklearn.metrics import accuracy_score, mean_squared_error\n",
    "\n",
    "\n",
    "import pickle"
   ]
  },
  {
   "cell_type": "code",
   "execution_count": 2,
   "id": "8782a5f3",
   "metadata": {},
   "outputs": [
    {
     "data": {
      "text/html": [
       "<div>\n",
       "<style scoped>\n",
       "    .dataframe tbody tr th:only-of-type {\n",
       "        vertical-align: middle;\n",
       "    }\n",
       "\n",
       "    .dataframe tbody tr th {\n",
       "        vertical-align: top;\n",
       "    }\n",
       "\n",
       "    .dataframe thead th {\n",
       "        text-align: right;\n",
       "    }\n",
       "</style>\n",
       "<table border=\"1\" class=\"dataframe\">\n",
       "  <thead>\n",
       "    <tr style=\"text-align: right;\">\n",
       "      <th></th>\n",
       "      <th>area_type</th>\n",
       "      <th>availability</th>\n",
       "      <th>location</th>\n",
       "      <th>size</th>\n",
       "      <th>society</th>\n",
       "      <th>total_sqft</th>\n",
       "      <th>bath</th>\n",
       "      <th>balcony</th>\n",
       "      <th>price</th>\n",
       "    </tr>\n",
       "  </thead>\n",
       "  <tbody>\n",
       "    <tr>\n",
       "      <th>0</th>\n",
       "      <td>Super built-up  Area</td>\n",
       "      <td>19-Dec</td>\n",
       "      <td>Electronic City Phase II</td>\n",
       "      <td>2 BHK</td>\n",
       "      <td>Coomee</td>\n",
       "      <td>1056</td>\n",
       "      <td>2.0</td>\n",
       "      <td>1.0</td>\n",
       "      <td>39.07</td>\n",
       "    </tr>\n",
       "    <tr>\n",
       "      <th>1</th>\n",
       "      <td>Plot  Area</td>\n",
       "      <td>Ready To Move</td>\n",
       "      <td>Chikka Tirupathi</td>\n",
       "      <td>4 Bedroom</td>\n",
       "      <td>Theanmp</td>\n",
       "      <td>2600</td>\n",
       "      <td>5.0</td>\n",
       "      <td>3.0</td>\n",
       "      <td>120.00</td>\n",
       "    </tr>\n",
       "  </tbody>\n",
       "</table>\n",
       "</div>"
      ],
      "text/plain": [
       "              area_type   availability                  location       size  \\\n",
       "0  Super built-up  Area         19-Dec  Electronic City Phase II      2 BHK   \n",
       "1            Plot  Area  Ready To Move          Chikka Tirupathi  4 Bedroom   \n",
       "\n",
       "   society total_sqft  bath  balcony   price  \n",
       "0  Coomee        1056   2.0      1.0   39.07  \n",
       "1  Theanmp       2600   5.0      3.0  120.00  "
      ]
     },
     "execution_count": 2,
     "metadata": {},
     "output_type": "execute_result"
    }
   ],
   "source": [
    "df = pd.read_csv(\"D:/data science/price prediction/Bengaluru_House_Data.csv\")\n",
    "df.head(2)"
   ]
  },
  {
   "cell_type": "code",
   "execution_count": 3,
   "id": "80d63227",
   "metadata": {},
   "outputs": [
    {
     "name": "stdout",
     "output_type": "stream",
     "text": [
      "<class 'pandas.core.frame.DataFrame'>\n",
      "RangeIndex: 13320 entries, 0 to 13319\n",
      "Data columns (total 9 columns):\n",
      " #   Column        Non-Null Count  Dtype  \n",
      "---  ------        --------------  -----  \n",
      " 0   area_type     13320 non-null  object \n",
      " 1   availability  13320 non-null  object \n",
      " 2   location      13319 non-null  object \n",
      " 3   size          13304 non-null  object \n",
      " 4   society       7818 non-null   object \n",
      " 5   total_sqft    13320 non-null  object \n",
      " 6   bath          13247 non-null  float64\n",
      " 7   balcony       12711 non-null  float64\n",
      " 8   price         13320 non-null  float64\n",
      "dtypes: float64(3), object(6)\n",
      "memory usage: 936.7+ KB\n"
     ]
    }
   ],
   "source": [
    "df.info()\n"
   ]
  },
  {
   "cell_type": "code",
   "execution_count": 4,
   "id": "73ca12d7",
   "metadata": {},
   "outputs": [
    {
     "name": "stdout",
     "output_type": "stream",
     "text": [
      "['Electronic City Phase II' 'Chikka Tirupathi' 'Uttarahalli' ...\n",
      " '12th cross srinivas nagar banshankari 3rd stage' 'Havanur extension'\n",
      " 'Abshot Layout']\n"
     ]
    }
   ],
   "source": [
    "# print(df['area_type'].unique())\n",
    "# print(df['availability'].unique())\n",
    "print(df['location'].unique())\n",
    "\n"
   ]
  },
  {
   "cell_type": "code",
   "execution_count": 5,
   "id": "c32b641d",
   "metadata": {},
   "outputs": [
    {
     "data": {
      "text/plain": [
       "area_type          0\n",
       "availability       0\n",
       "location           1\n",
       "size              16\n",
       "society         5502\n",
       "total_sqft         0\n",
       "bath              73\n",
       "balcony          609\n",
       "price              0\n",
       "dtype: int64"
      ]
     },
     "execution_count": 5,
     "metadata": {},
     "output_type": "execute_result"
    }
   ],
   "source": [
    "df.isnull().sum()\n"
   ]
  },
  {
   "cell_type": "code",
   "execution_count": 6,
   "id": "4d63438d",
   "metadata": {},
   "outputs": [
    {
     "data": {
      "text/plain": [
       "Whitefield                        540\n",
       "Sarjapur  Road                    399\n",
       "Electronic City                   302\n",
       "Kanakpura Road                    273\n",
       "Thanisandra                       234\n",
       "                                 ... \n",
       "Bapuji Layout                       1\n",
       "1st Stage Radha Krishna Layout      1\n",
       "BEML Layout 5th stage               1\n",
       "singapura paradise                  1\n",
       "Abshot Layout                       1\n",
       "Name: location, Length: 1305, dtype: int64"
      ]
     },
     "execution_count": 6,
     "metadata": {},
     "output_type": "execute_result"
    }
   ],
   "source": [
    "value_counts = df['location'].value_counts()\n",
    "value_counts\n"
   ]
  },
  {
   "cell_type": "code",
   "execution_count": 7,
   "id": "a3bd95c2",
   "metadata": {
    "scrolled": true
   },
   "outputs": [
    {
     "data": {
      "text/plain": [
       "2 BHK         5199\n",
       "3 BHK         4310\n",
       "4 Bedroom      826\n",
       "4 BHK          591\n",
       "3 Bedroom      547\n",
       "1 BHK          538\n",
       "2 Bedroom      329\n",
       "5 Bedroom      297\n",
       "6 Bedroom      191\n",
       "1 Bedroom      105\n",
       "8 Bedroom       84\n",
       "7 Bedroom       83\n",
       "5 BHK           59\n",
       "9 Bedroom       46\n",
       "6 BHK           30\n",
       "7 BHK           17\n",
       "1 RK            13\n",
       "10 Bedroom      12\n",
       "9 BHK            8\n",
       "8 BHK            5\n",
       "11 BHK           2\n",
       "11 Bedroom       2\n",
       "10 BHK           2\n",
       "14 BHK           1\n",
       "13 BHK           1\n",
       "12 Bedroom       1\n",
       "27 BHK           1\n",
       "43 Bedroom       1\n",
       "16 BHK           1\n",
       "19 BHK           1\n",
       "18 Bedroom       1\n",
       "Name: size, dtype: int64"
      ]
     },
     "execution_count": 7,
     "metadata": {},
     "output_type": "execute_result"
    }
   ],
   "source": [
    "value_counts = df['size'].value_counts()\n",
    "value_counts"
   ]
  },
  {
   "cell_type": "code",
   "execution_count": 8,
   "id": "d9e1e021",
   "metadata": {},
   "outputs": [],
   "source": [
    "df['location'] = df['location'].fillna('Whitefield')\n",
    "df['size'] = df['size'].fillna('2 BHK')\n",
    "df['bath'] = df['bath'].fillna(df['bath'].median())\n",
    "\n",
    "# extract bhk from size\n",
    "df['bhk'] = df['size'].str.split().str.get(0).astype(int)"
   ]
  },
  {
   "cell_type": "code",
   "execution_count": 9,
   "id": "cb9a63dc",
   "metadata": {},
   "outputs": [],
   "source": [
    "numeric_values = pd.to_numeric(df['total_sqft'], errors='coerce')\n",
    "\n",
    "non_numeric_values = df['total_sqft'][numeric_values.isna()].tolist()"
   ]
  },
  {
   "cell_type": "code",
   "execution_count": 10,
   "id": "853bb99b",
   "metadata": {},
   "outputs": [
    {
     "data": {
      "text/plain": [
       "0        1056.0\n",
       "1        2600.0\n",
       "2        1440.0\n",
       "3        1521.0\n",
       "4        1200.0\n",
       "          ...  \n",
       "13315    3453.0\n",
       "13316    3600.0\n",
       "13317    1141.0\n",
       "13318    4689.0\n",
       "13319     550.0\n",
       "Name: total_sqft, Length: 13320, dtype: float64"
      ]
     },
     "execution_count": 10,
     "metadata": {},
     "output_type": "execute_result"
    }
   ],
   "source": [
    "numeric_values"
   ]
  },
  {
   "cell_type": "code",
   "execution_count": 11,
   "id": "863a164b",
   "metadata": {},
   "outputs": [
    {
     "data": {
      "text/plain": [
       "['2100 - 2850',\n",
       " '3010 - 3410',\n",
       " '2957 - 3450',\n",
       " '3067 - 8156',\n",
       " '1042 - 1105',\n",
       " '1145 - 1340',\n",
       " '1015 - 1540',\n",
       " '1520 - 1740',\n",
       " '34.46Sq. Meter',\n",
       " '1195 - 1440',\n",
       " '1200 - 2400',\n",
       " '4125Perch',\n",
       " '1120 - 1145',\n",
       " '4400 - 6640',\n",
       " '3090 - 5002',\n",
       " '4400 - 6800',\n",
       " '1160 - 1195',\n",
       " '1000Sq. Meter',\n",
       " '4000 - 5249',\n",
       " '1115 - 1130',\n",
       " '1100Sq. Yards',\n",
       " '520 - 645',\n",
       " '1000 - 1285',\n",
       " '3606 - 5091',\n",
       " '650 - 665',\n",
       " '633 - 666',\n",
       " '5.31Acres',\n",
       " '30Acres',\n",
       " '1445 - 1455',\n",
       " '884 - 1116',\n",
       " '850 - 1093',\n",
       " '1440 - 1884',\n",
       " '716Sq. Meter',\n",
       " '547.34 - 827.31',\n",
       " '580 - 650',\n",
       " '3425 - 3435',\n",
       " '1804 - 2273',\n",
       " '3630 - 3800',\n",
       " '660 - 670',\n",
       " '4000 - 5249',\n",
       " '1500Sq. Meter',\n",
       " '620 - 933',\n",
       " '142.61Sq. Meter',\n",
       " '2695 - 2940',\n",
       " '2000 - 5634',\n",
       " '1574Sq. Yards',\n",
       " '3450 - 3472',\n",
       " '1250 - 1305',\n",
       " '670 - 980',\n",
       " '1005.03 - 1252.49',\n",
       " '3630 - 3800',\n",
       " '1004 - 1204',\n",
       " '361.33Sq. Yards',\n",
       " '645 - 936',\n",
       " '2710 - 3360',\n",
       " '2249.81 - 4112.19',\n",
       " '3436 - 3643',\n",
       " '2830 - 2882',\n",
       " '596 - 804',\n",
       " '1255 - 1863',\n",
       " '1300 - 1405',\n",
       " '1200 - 2400',\n",
       " '1500 - 2400',\n",
       " '117Sq. Yards',\n",
       " '934 - 1437',\n",
       " '980 - 1030',\n",
       " '1564 - 1850',\n",
       " '1446 - 1506',\n",
       " '2249.81 - 4112.19',\n",
       " '1070 - 1315',\n",
       " '3040Sq. Meter',\n",
       " '500Sq. Yards',\n",
       " '2806 - 3019',\n",
       " '613 - 648',\n",
       " '1430 - 1630',\n",
       " '704 - 730',\n",
       " '1482 - 1846',\n",
       " '2805 - 3565',\n",
       " '3293 - 5314',\n",
       " '1210 - 1477',\n",
       " '3369 - 3464',\n",
       " '1125 - 1500',\n",
       " '167Sq. Meter',\n",
       " '1076 - 1199',\n",
       " '381 - 535',\n",
       " '2215 - 2475',\n",
       " '524 - 894',\n",
       " '540 - 670',\n",
       " '315Sq. Yards',\n",
       " '1650 - 2538',\n",
       " '2725 - 3250',\n",
       " '1974 - 2171',\n",
       " '888 - 1290',\n",
       " '1360 - 1890',\n",
       " '2466 - 2856',\n",
       " '660 - 700',\n",
       " '385 - 440',\n",
       " '2100 - 5405',\n",
       " '770 - 841',\n",
       " '524 - 894',\n",
       " '3Cents',\n",
       " '1310 - 1615',\n",
       " '1782 - 2000',\n",
       " '188.89Sq. Yards',\n",
       " '1469 - 1766',\n",
       " '204Sq. Meter',\n",
       " '1255 - 1350',\n",
       " '870 - 1080',\n",
       " '45Sq. Yards',\n",
       " '133.3Sq. Yards',\n",
       " '2580 - 2591',\n",
       " '613 - 648',\n",
       " '2563 - 2733',\n",
       " '605 - 624',\n",
       " '4260 - 4408',\n",
       " '1349 - 3324',\n",
       " '78.03Sq. Meter',\n",
       " '1255 - 1350',\n",
       " '3300 - 3335',\n",
       " '1180 - 1630',\n",
       " '1365 - 1700',\n",
       " '3500 - 3600',\n",
       " '122Sq. Yards',\n",
       " '2830 - 2882',\n",
       " '84.53Sq. Meter',\n",
       " '2.09Acres',\n",
       " '2830 - 2882',\n",
       " '1482 - 1684',\n",
       " '981 - 1249',\n",
       " '1100 - 1225',\n",
       " '1565 - 1595',\n",
       " '24Guntha',\n",
       " '1270 - 1275',\n",
       " '840 - 1010',\n",
       " '697Sq. Meter',\n",
       " '2830 - 2882',\n",
       " '655 - 742',\n",
       " '800 - 2660',\n",
       " '1408 - 1455',\n",
       " '4050 - 4075',\n",
       " '942 - 1117',\n",
       " '1750 - 2640',\n",
       " '142.61Sq. Meter',\n",
       " '1390 - 1600',\n",
       " '598 - 958',\n",
       " '1500Cents',\n",
       " '132Sq. Yards',\n",
       " '1010 - 1300',\n",
       " '2Acres',\n",
       " '3103 - 3890',\n",
       " '1450 - 1950',\n",
       " '1100Sq. Meter',\n",
       " '15Acres',\n",
       " '1450 - 1595',\n",
       " '763 - 805',\n",
       " '3307 - 3464',\n",
       " '1.26Acres',\n",
       " '620 - 934',\n",
       " '2462 - 2467',\n",
       " '540 - 740',\n",
       " '1618 - 1929',\n",
       " '3508 - 4201',\n",
       " '2249.81 - 4112.19',\n",
       " '4900 - 4940',\n",
       " '1610 - 1880',\n",
       " '755 - 770',\n",
       " '664 - 722',\n",
       " '151.11Sq. Yards',\n",
       " '700 - 900',\n",
       " '596 - 861',\n",
       " '1925 - 2680',\n",
       " '615 - 985',\n",
       " '1200 - 2400',\n",
       " '540 - 565',\n",
       " '1390 - 1600',\n",
       " '750 - 800',\n",
       " '1660 - 1805',\n",
       " '1365 - 1700',\n",
       " '1410 - 1710',\n",
       " '1079 - 1183',\n",
       " '2800 - 2870',\n",
       " '1230 - 1290',\n",
       " '943 - 1220',\n",
       " '2041 - 2090',\n",
       " '527 - 639',\n",
       " '645 - 936',\n",
       " '1Grounds',\n",
       " '1160 - 1315',\n",
       " '706 - 716',\n",
       " '2940Sq. Yards',\n",
       " '1791 - 4000',\n",
       " '45.06Sq. Meter',\n",
       " '799 - 803',\n",
       " '2470 - 2790',\n",
       " '783 - 943',\n",
       " '4500 - 5540',\n",
       " '1255 - 1375',\n",
       " '1430 - 1630',\n",
       " '610 - 615',\n",
       " '854 - 960',\n",
       " '2650 - 2990',\n",
       " '1.25Acres',\n",
       " '86.72Sq. Meter',\n",
       " '381 - 535',\n",
       " '1230 - 1490',\n",
       " '3630 - 3800',\n",
       " '660 - 780',\n",
       " '1618 - 1929',\n",
       " '1150 - 1194',\n",
       " '684 - 810',\n",
       " '1200 - 1800',\n",
       " '1510 - 1670',\n",
       " '1550 - 1590',\n",
       " '1235 - 1410',\n",
       " '3484 - 3550',\n",
       " '38Guntha',\n",
       " '929 - 1078',\n",
       " '2150 - 2225',\n",
       " '1520 - 1759',\n",
       " '2580 - 2591',\n",
       " '629 - 1026',\n",
       " '1215 - 1495',\n",
       " '6Acres',\n",
       " '1140 - 1250',\n",
       " '2400 - 2600',\n",
       " '1052 - 1322',\n",
       " '5666 - 5669',\n",
       " '620 - 934',\n",
       " '712 - 938',\n",
       " '1783 - 1878',\n",
       " '120Sq. Yards',\n",
       " '24Sq. Meter',\n",
       " '2528 - 3188',\n",
       " '650 - 760',\n",
       " '1400 - 1421',\n",
       " '4000 - 4450',\n",
       " '142.84Sq. Meter',\n",
       " '300Sq. Yards',\n",
       " '1115 - 1130',\n",
       " '2204 - 2362',\n",
       " '1437 - 1629',\n",
       " '850 - 1060',\n",
       " '1804 - 2273',\n",
       " '1200 - 1470',\n",
       " '1020 - 1130',\n",
       " '1133 - 1384',\n",
       " '2830 - 2882']"
      ]
     },
     "execution_count": 11,
     "metadata": {},
     "output_type": "execute_result"
    }
   ],
   "source": [
    "non_numeric_values"
   ]
  },
  {
   "cell_type": "code",
   "execution_count": 12,
   "id": "817b52ed",
   "metadata": {},
   "outputs": [],
   "source": [
    "def convertRange(x):\n",
    "    temp = x.split('-')\n",
    "    if len(temp)==2:\n",
    "        return (float(temp[0])+float(temp[1]))/2\n",
    "    try:\n",
    "        return float(x)\n",
    "    except:\n",
    "        return None\n",
    "\n",
    "df['total_sqft'] = df['total_sqft'].apply(convertRange)\n",
    "df.dropna(inplace=True)\n",
    "df['Price_per_square_feet'] = df['price']*100000 / df['total_sqft']"
   ]
  },
  {
   "cell_type": "code",
   "execution_count": 13,
   "id": "02696525",
   "metadata": {},
   "outputs": [],
   "source": [
    "location_count = df['location'].value_counts()\n",
    "\n",
    "location_count_less_10 = location_count[location_count<10]\n",
    "\n",
    "df['location'] = df['location'].apply(lambda x: 'other' if x in location_count_less_10 else x)\n",
    "\n",
    "df = df[((df['total_sqft']/df['bhk'])>=300)]\n"
   ]
  },
  {
   "cell_type": "markdown",
   "id": "d97c7de8",
   "metadata": {},
   "source": [
    "##### Mean-standard deviation refer to --> lower bound \n",
    "##### Mean + standard deviation --> refer to upper bound \n",
    "\n",
    "This function groups the DataFrame by location, calculates the mean of total_sqft with respect to bhk for each location, filters the data based on lower and upper bounds, and then concatenates the filtered results into a new DataFrame\n"
   ]
  },
  {
   "cell_type": "code",
   "execution_count": 14,
   "id": "04612e28",
   "metadata": {},
   "outputs": [],
   "source": [
    "def remove_outliers_sqft(df):\n",
    "    df_output = pd.DataFrame()\n",
    "    for key, subdf in df.groupby('location'):\n",
    "        m = np.mean(subdf.total_sqft / subdf.bhk)\n",
    "        st = np.std(subdf.total_sqft / subdf.bhk)\n",
    "\n",
    "        gen_df = subdf[((subdf.total_sqft / subdf.bhk) > (m - st)) & ((subdf.total_sqft / subdf.bhk) <= (m + st))]\n",
    "        df_output = pd.concat([df_output, gen_df], ignore_index=True)\n",
    "    return df_output\n",
    "\n",
    "df = remove_outliers_sqft(df)"
   ]
  },
  {
   "cell_type": "code",
   "execution_count": 15,
   "id": "b75442b3",
   "metadata": {
    "scrolled": true
   },
   "outputs": [
    {
     "data": {
      "image/png": "[encoded data removed]",
      "text/plain": [
       "<Figure size 576x288 with 1 Axes>"
      ]
     },
     "metadata": {
      "needs_background": "light"
     },
     "output_type": "display_data"
    }
   ],
   "source": [
    "plt.figure(figsize=(8, 4))\n",
    "sns.scatterplot(data=df, x='balcony', y='price')\n",
    "plt.title('Scatter plot of Balcony vs Price')\n",
    "plt.xlabel('Number of Balconies')\n",
    "plt.ylabel('Price')\n",
    "plt.show()"
   ]
  },
  {
   "cell_type": "code",
   "execution_count": 16,
   "id": "6b371606",
   "metadata": {},
   "outputs": [
    {
     "data": {
      "image/png": "[encoded data removed]",
      "text/plain": [
       "<Figure size 720x432 with 1 Axes>"
      ]
     },
     "metadata": {
      "needs_background": "light"
     },
     "output_type": "display_data"
    }
   ],
   "source": [
    "plt.figure(figsize=(10, 6))\n",
    "plt.scatter(df['bath'], df['total_sqft'], alpha=0.5)\n",
    "plt.title('Price vs Total Square Feet')\n",
    "plt.xlabel('bath')\n",
    "plt.ylabel('Total Square Feet')\n",
    "plt.grid(True);"
   ]
  },
  {
   "cell_type": "code",
   "execution_count": 17,
   "id": "4a6cbb7a",
   "metadata": {},
   "outputs": [
    {
     "data": {
      "image/png": "[encoded data removed]",
      "text/plain": [
       "<Figure size 504x360 with 2 Axes>"
      ]
     },
     "metadata": {
      "needs_background": "light"
     },
     "output_type": "display_data"
    }
   ],
   "source": [
    "numeric_df = df.select_dtypes(include=[np.number])\n",
    "\n",
    "correlation_matrix = numeric_df.corr()\n",
    "\n",
    "plt.figure(figsize=(7, 5))\n",
    "sns.heatmap(correlation_matrix, annot=True, cmap='viridis', fmt=\".2f\", linewidths=.5)\n",
    "plt.title('Correlation Matrix')\n",
    "plt.show()"
   ]
  },
  {
   "cell_type": "code",
   "execution_count": 18,
   "id": "6fafc63e",
   "metadata": {},
   "outputs": [],
   "source": [
    "df.drop(columns=['society' , 'availability' ,'area_type' , 'balcony' ,'size'] , inplace=True)\n"
   ]
  },
  {
   "cell_type": "code",
   "execution_count": 19,
   "id": "a2af0c42",
   "metadata": {},
   "outputs": [
    {
     "data": {
      "image/png": "[encoded data removed]",
      "text/plain": [
       "<Figure size 864x864 with 36 Axes>"
      ]
     },
     "metadata": {
      "needs_background": "light"
     },
     "output_type": "display_data"
    }
   ],
   "source": [
    "pd.plotting.scatter_matrix(numeric_df, figsize=(12, 12))\n",
    "plt.show()"
   ]
  },
  {
   "cell_type": "code",
   "execution_count": 20,
   "id": "055d64b3",
   "metadata": {},
   "outputs": [],
   "source": [
    "from sklearn.model_selection import train_test_split\n",
    "from sklearn.linear_model import LinearRegression,Lasso,Ridge\n",
    "from sklearn.preprocessing import OneHotEncoder,StandardScaler\n",
    "from sklearn.compose import make_column_transformer\n",
    "from sklearn.pipeline import make_pipeline\n",
    "from sklearn.metrics import r2_score\n",
    "\n",
    "from sklearn.neighbors import KNeighborsRegressor\n"
   ]
  },
  {
   "cell_type": "code",
   "execution_count": 21,
   "id": "2d432593",
   "metadata": {},
   "outputs": [
    {
     "data": {
      "text/html": [
       "<div>\n",
       "<style scoped>\n",
       "    .dataframe tbody tr th:only-of-type {\n",
       "        vertical-align: middle;\n",
       "    }\n",
       "\n",
       "    .dataframe tbody tr th {\n",
       "        vertical-align: top;\n",
       "    }\n",
       "\n",
       "    .dataframe thead th {\n",
       "        text-align: right;\n",
       "    }\n",
       "</style>\n",
       "<table border=\"1\" class=\"dataframe\">\n",
       "  <thead>\n",
       "    <tr style=\"text-align: right;\">\n",
       "      <th></th>\n",
       "      <th>location</th>\n",
       "      <th>total_sqft</th>\n",
       "      <th>bath</th>\n",
       "      <th>price</th>\n",
       "      <th>bhk</th>\n",
       "      <th>Price_per_square_feet</th>\n",
       "    </tr>\n",
       "  </thead>\n",
       "  <tbody>\n",
       "    <tr>\n",
       "      <th>0</th>\n",
       "      <td>1st Phase JP Nagar</td>\n",
       "      <td>2825.0</td>\n",
       "      <td>4.0</td>\n",
       "      <td>250.00</td>\n",
       "      <td>4</td>\n",
       "      <td>8849.557522</td>\n",
       "    </tr>\n",
       "    <tr>\n",
       "      <th>1</th>\n",
       "      <td>1st Phase JP Nagar</td>\n",
       "      <td>1875.0</td>\n",
       "      <td>3.0</td>\n",
       "      <td>167.00</td>\n",
       "      <td>3</td>\n",
       "      <td>8906.666667</td>\n",
       "    </tr>\n",
       "    <tr>\n",
       "      <th>2</th>\n",
       "      <td>1st Phase JP Nagar</td>\n",
       "      <td>2065.0</td>\n",
       "      <td>4.0</td>\n",
       "      <td>210.00</td>\n",
       "      <td>3</td>\n",
       "      <td>10169.491525</td>\n",
       "    </tr>\n",
       "    <tr>\n",
       "      <th>3</th>\n",
       "      <td>1st Phase JP Nagar</td>\n",
       "      <td>2059.0</td>\n",
       "      <td>3.0</td>\n",
       "      <td>225.00</td>\n",
       "      <td>3</td>\n",
       "      <td>10927.634774</td>\n",
       "    </tr>\n",
       "    <tr>\n",
       "      <th>4</th>\n",
       "      <td>1st Phase JP Nagar</td>\n",
       "      <td>1394.0</td>\n",
       "      <td>2.0</td>\n",
       "      <td>100.00</td>\n",
       "      <td>2</td>\n",
       "      <td>7173.601148</td>\n",
       "    </tr>\n",
       "    <tr>\n",
       "      <th>...</th>\n",
       "      <td>...</td>\n",
       "      <td>...</td>\n",
       "      <td>...</td>\n",
       "      <td>...</td>\n",
       "      <td>...</td>\n",
       "      <td>...</td>\n",
       "    </tr>\n",
       "    <tr>\n",
       "      <th>5808</th>\n",
       "      <td>other</td>\n",
       "      <td>1000.0</td>\n",
       "      <td>2.0</td>\n",
       "      <td>49.50</td>\n",
       "      <td>2</td>\n",
       "      <td>4950.000000</td>\n",
       "    </tr>\n",
       "    <tr>\n",
       "      <th>5809</th>\n",
       "      <td>other</td>\n",
       "      <td>1256.0</td>\n",
       "      <td>2.0</td>\n",
       "      <td>65.00</td>\n",
       "      <td>2</td>\n",
       "      <td>5175.159236</td>\n",
       "    </tr>\n",
       "    <tr>\n",
       "      <th>5810</th>\n",
       "      <td>other</td>\n",
       "      <td>1353.0</td>\n",
       "      <td>2.0</td>\n",
       "      <td>110.00</td>\n",
       "      <td>2</td>\n",
       "      <td>8130.081301</td>\n",
       "    </tr>\n",
       "    <tr>\n",
       "      <th>5811</th>\n",
       "      <td>other</td>\n",
       "      <td>1440.0</td>\n",
       "      <td>2.0</td>\n",
       "      <td>63.93</td>\n",
       "      <td>3</td>\n",
       "      <td>4439.583333</td>\n",
       "    </tr>\n",
       "    <tr>\n",
       "      <th>5812</th>\n",
       "      <td>other</td>\n",
       "      <td>2200.0</td>\n",
       "      <td>3.0</td>\n",
       "      <td>80.00</td>\n",
       "      <td>4</td>\n",
       "      <td>3636.363636</td>\n",
       "    </tr>\n",
       "  </tbody>\n",
       "</table>\n",
       "<p>5813 rows × 6 columns</p>\n",
       "</div>"
      ],
      "text/plain": [
       "                location  total_sqft  bath   price  bhk  Price_per_square_feet\n",
       "0     1st Phase JP Nagar      2825.0   4.0  250.00    4            8849.557522\n",
       "1     1st Phase JP Nagar      1875.0   3.0  167.00    3            8906.666667\n",
       "2     1st Phase JP Nagar      2065.0   4.0  210.00    3           10169.491525\n",
       "3     1st Phase JP Nagar      2059.0   3.0  225.00    3           10927.634774\n",
       "4     1st Phase JP Nagar      1394.0   2.0  100.00    2            7173.601148\n",
       "...                  ...         ...   ...     ...  ...                    ...\n",
       "5808               other      1000.0   2.0   49.50    2            4950.000000\n",
       "5809               other      1256.0   2.0   65.00    2            5175.159236\n",
       "5810               other      1353.0   2.0  110.00    2            8130.081301\n",
       "5811               other      1440.0   2.0   63.93    3            4439.583333\n",
       "5812               other      2200.0   3.0   80.00    4            3636.363636\n",
       "\n",
       "[5813 rows x 6 columns]"
      ]
     },
     "execution_count": 21,
     "metadata": {},
     "output_type": "execute_result"
    }
   ],
   "source": [
    "df"
   ]
  },
  {
   "cell_type": "code",
   "execution_count": 22,
   "id": "1c4883f1",
   "metadata": {},
   "outputs": [],
   "source": [
    "X = df.drop(columns=['price'])\n",
    "y = df['price']"
   ]
  },
  {
   "cell_type": "code",
   "execution_count": 23,
   "id": "05940a52",
   "metadata": {},
   "outputs": [
    {
     "data": {
      "text/html": [
       "<div>\n",
       "<style scoped>\n",
       "    .dataframe tbody tr th:only-of-type {\n",
       "        vertical-align: middle;\n",
       "    }\n",
       "\n",
       "    .dataframe tbody tr th {\n",
       "        vertical-align: top;\n",
       "    }\n",
       "\n",
       "    .dataframe thead th {\n",
       "        text-align: right;\n",
       "    }\n",
       "</style>\n",
       "<table border=\"1\" class=\"dataframe\">\n",
       "  <thead>\n",
       "    <tr style=\"text-align: right;\">\n",
       "      <th></th>\n",
       "      <th>location</th>\n",
       "      <th>total_sqft</th>\n",
       "      <th>bath</th>\n",
       "      <th>bhk</th>\n",
       "      <th>Price_per_square_feet</th>\n",
       "    </tr>\n",
       "  </thead>\n",
       "  <tbody>\n",
       "    <tr>\n",
       "      <th>0</th>\n",
       "      <td>1st Phase JP Nagar</td>\n",
       "      <td>2825.0</td>\n",
       "      <td>4.0</td>\n",
       "      <td>4</td>\n",
       "      <td>8849.557522</td>\n",
       "    </tr>\n",
       "    <tr>\n",
       "      <th>1</th>\n",
       "      <td>1st Phase JP Nagar</td>\n",
       "      <td>1875.0</td>\n",
       "      <td>3.0</td>\n",
       "      <td>3</td>\n",
       "      <td>8906.666667</td>\n",
       "    </tr>\n",
       "    <tr>\n",
       "      <th>2</th>\n",
       "      <td>1st Phase JP Nagar</td>\n",
       "      <td>2065.0</td>\n",
       "      <td>4.0</td>\n",
       "      <td>3</td>\n",
       "      <td>10169.491525</td>\n",
       "    </tr>\n",
       "    <tr>\n",
       "      <th>3</th>\n",
       "      <td>1st Phase JP Nagar</td>\n",
       "      <td>2059.0</td>\n",
       "      <td>3.0</td>\n",
       "      <td>3</td>\n",
       "      <td>10927.634774</td>\n",
       "    </tr>\n",
       "    <tr>\n",
       "      <th>4</th>\n",
       "      <td>1st Phase JP Nagar</td>\n",
       "      <td>1394.0</td>\n",
       "      <td>2.0</td>\n",
       "      <td>2</td>\n",
       "      <td>7173.601148</td>\n",
       "    </tr>\n",
       "    <tr>\n",
       "      <th>...</th>\n",
       "      <td>...</td>\n",
       "      <td>...</td>\n",
       "      <td>...</td>\n",
       "      <td>...</td>\n",
       "      <td>...</td>\n",
       "    </tr>\n",
       "    <tr>\n",
       "      <th>5808</th>\n",
       "      <td>other</td>\n",
       "      <td>1000.0</td>\n",
       "      <td>2.0</td>\n",
       "      <td>2</td>\n",
       "      <td>4950.000000</td>\n",
       "    </tr>\n",
       "    <tr>\n",
       "      <th>5809</th>\n",
       "      <td>other</td>\n",
       "      <td>1256.0</td>\n",
       "      <td>2.0</td>\n",
       "      <td>2</td>\n",
       "      <td>5175.159236</td>\n",
       "    </tr>\n",
       "    <tr>\n",
       "      <th>5810</th>\n",
       "      <td>other</td>\n",
       "      <td>1353.0</td>\n",
       "      <td>2.0</td>\n",
       "      <td>2</td>\n",
       "      <td>8130.081301</td>\n",
       "    </tr>\n",
       "    <tr>\n",
       "      <th>5811</th>\n",
       "      <td>other</td>\n",
       "      <td>1440.0</td>\n",
       "      <td>2.0</td>\n",
       "      <td>3</td>\n",
       "      <td>4439.583333</td>\n",
       "    </tr>\n",
       "    <tr>\n",
       "      <th>5812</th>\n",
       "      <td>other</td>\n",
       "      <td>2200.0</td>\n",
       "      <td>3.0</td>\n",
       "      <td>4</td>\n",
       "      <td>3636.363636</td>\n",
       "    </tr>\n",
       "  </tbody>\n",
       "</table>\n",
       "<p>5813 rows × 5 columns</p>\n",
       "</div>"
      ],
      "text/plain": [
       "                location  total_sqft  bath  bhk  Price_per_square_feet\n",
       "0     1st Phase JP Nagar      2825.0   4.0    4            8849.557522\n",
       "1     1st Phase JP Nagar      1875.0   3.0    3            8906.666667\n",
       "2     1st Phase JP Nagar      2065.0   4.0    3           10169.491525\n",
       "3     1st Phase JP Nagar      2059.0   3.0    3           10927.634774\n",
       "4     1st Phase JP Nagar      1394.0   2.0    2            7173.601148\n",
       "...                  ...         ...   ...  ...                    ...\n",
       "5808               other      1000.0   2.0    2            4950.000000\n",
       "5809               other      1256.0   2.0    2            5175.159236\n",
       "5810               other      1353.0   2.0    2            8130.081301\n",
       "5811               other      1440.0   2.0    3            4439.583333\n",
       "5812               other      2200.0   3.0    4            3636.363636\n",
       "\n",
       "[5813 rows x 5 columns]"
      ]
     },
     "execution_count": 23,
     "metadata": {},
     "output_type": "execute_result"
    }
   ],
   "source": [
    "X"
   ]
  },
  {
   "cell_type": "code",
   "execution_count": null,
   "id": "c22bc885",
   "metadata": {},
   "outputs": [],
   "source": []
  },
  {
   "cell_type": "code",
   "execution_count": 24,
   "id": "0482633a",
   "metadata": {},
   "outputs": [],
   "source": [
    "X_train,X_test,y_train,y_test = train_test_split(X,y,test_size=0.2,random_state=0)"
   ]
  },
  {
   "cell_type": "code",
   "execution_count": 25,
   "id": "9607d45b",
   "metadata": {},
   "outputs": [],
   "source": [
    "column_trans = make_column_transformer((OneHotEncoder(sparse=False),['location']),remainder='passthrough')\n",
    "\n",
    "scaler = StandardScaler()"
   ]
  },
  {
   "cell_type": "code",
   "execution_count": 26,
   "id": "ed92477a",
   "metadata": {},
   "outputs": [],
   "source": [
    "lr = LinearRegression()"
   ]
  },
  {
   "cell_type": "code",
   "execution_count": null,
   "id": "2b36df5f",
   "metadata": {},
   "outputs": [],
   "source": []
  },
  {
   "cell_type": "code",
   "execution_count": 27,
   "id": "5f5ec44e",
   "metadata": {},
   "outputs": [],
   "source": [
    "pipe = make_pipeline(column_trans,scaler,lr)\n"
   ]
  },
  {
   "cell_type": "code",
   "execution_count": 28,
   "id": "0fe76742",
   "metadata": {},
   "outputs": [
    {
     "data": {
      "text/plain": [
       "Pipeline(steps=[('columntransformer',\n",
       "                 ColumnTransformer(remainder='passthrough',\n",
       "                                   transformers=[('onehotencoder',\n",
       "                                                  OneHotEncoder(sparse=False),\n",
       "                                                  ['location'])])),\n",
       "                ('standardscaler', StandardScaler()),\n",
       "                ('linearregression', LinearRegression())])"
      ]
     },
     "execution_count": 28,
     "metadata": {},
     "output_type": "execute_result"
    }
   ],
   "source": [
    "pipe.fit(X_train,y_train)\n"
   ]
  },
  {
   "cell_type": "code",
   "execution_count": 29,
   "id": "35e4244f",
   "metadata": {},
   "outputs": [
    {
     "data": {
      "text/plain": [
       "0.9425853626712295"
      ]
     },
     "execution_count": 29,
     "metadata": {},
     "output_type": "execute_result"
    }
   ],
   "source": [
    "y_pred_ridge = pipe.predict(X_test)\n",
    "r2_score(y_test,y_pred_ridge)"
   ]
  },
  {
   "cell_type": "code",
   "execution_count": 30,
   "id": "fa6e64cf",
   "metadata": {},
   "outputs": [],
   "source": [
    "pickle.dump(pipe, open('ppp.pkl','wb'))"
   ]
  },
  {
   "cell_type": "code",
   "execution_count": 31,
   "id": "6f3f3b91",
   "metadata": {},
   "outputs": [],
   "source": [
    "# df.drop(columns=['Price_per_square_feet'] , inplace = True)\n"
   ]
  },
  {
   "cell_type": "code",
   "execution_count": 33,
   "id": "7048b987",
   "metadata": {},
   "outputs": [],
   "source": [
    "with open('redgemodel.pkl', 'rb') as file:\n",
    "    loaded_model = pickle.load(file)"
   ]
  },
  {
   "cell_type": "code",
   "execution_count": null,
   "id": "c3d2faf5",
   "metadata": {},
   "outputs": [],
   "source": []
  },
  {
   "cell_type": "code",
   "execution_count": null,
   "id": "f83ff33c",
   "metadata": {},
   "outputs": [],
   "source": []
  }
 ],
 "metadata": {
  "kernelspec": {
   "display_name": "Python 3 (ipykernel)",
   "language": "python",
   "name": "python3"
  },
  "language_info": {
   "codemirror_mode": {
    "name": "ipython",
    "version": 3
   },
   "file_extension": ".py",
   "mimetype": "text/x-python",
   "name": "python",
   "nbconvert_exporter": "python",
   "pygments_lexer": "ipython3",
   "version": "3.9.12"
  }
 },
 "nbformat": 4,
 "nbformat_minor": 5
}
